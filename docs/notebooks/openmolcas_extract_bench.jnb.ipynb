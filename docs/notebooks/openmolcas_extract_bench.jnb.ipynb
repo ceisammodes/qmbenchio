{
 "cells": [
  {
   "cell_type": "markdown",
   "id": "9f208bd6-bf43-44b3-b282-b10e2fa3b586",
   "metadata": {},
   "source": [
    "# QMBENCHIO (package openmolcas)\n",
    "## Extract of High-throughput openmolcas io benchmark test(molcas_IO_test)"
   ]
  },
  {
   "cell_type": "markdown",
   "id": "d50d4855-9a10-4b16-a685-f810a0f69073",
   "metadata": {},
   "source": [
    "This test was carried out by thierry tran (attop project) in order to understand the influence of the scratch disk on calculation times\n",
    "## Description of the test (molcas_IO_test)\n",
    "\n",
    "- Submission of job array calculations to the cluster to test the I/O limit using /scratch as tmp for temporary files.\n",
    "\n",
    "- Type of calculations: Single point CASSCF with OpenMolcas evaluating energies, gradient and nonadiabatic coupling\n",
    "\n",
    "- Each subfolder contains N copies of the same calculation (1,10,100 and 1000) with an estimate of 500 MB required on disk for each individual calculation. 500 GB required for the 1000 test.\n",
    "\n",
    "## Protocol\n",
    "- A calculation submission script sub_molcas_nautilus_Xjob.sh is given for each set.\n",
    "\n",
    "- The script is configured to make a job array with X calculations all writing using /scratch as tmp\n",
    "\n",
    "- Submit each script individually to properly test the speed of 1 calculation and a single I/O on /scratch vs. X calculations and X writing on the /scratch\n",
    "\n",
    "## Folder contents\n",
    "\n",
    "The Xjob folders contain X geometry subfolders by calculations:\n",
    "```\n",
    "100job\n",
    "|--geom_1\n",
    "|--geom_2\n",
    "...\n",
    "|--geom_100\n",
    "```\n",
    "\n",
    "Each geometry folder can contain the following files:\n",
    "\n",
    "```\n",
    "--geom_X\n",
    "  |--geometry_1.xyz #xyz file with molecular geometry\n",
    "  |--mol_input_1.input #Input from molcas\n",
    "  |--start.RasOrb #Guess for molecular orbitals\n",
    "  |\n",
    "  |--mol_input_1.output #Output of molcas calculations (contains the walltime)\n",
    "  |--mol_input_1.status #file containing the final calculation message (\"Happy landing\" if execution without problem)\n",
    "```\n",
    "\n",
    "The walltime and cputime are in the last lines of mol_input_1.output\n"
   ]
  },
  {
   "cell_type": "markdown",
   "id": "7dc5102b-6ec2-4343-8a72-5757722a39a1",
   "metadata": {},
   "source": [
    "## recuperation des données pour tester le notebook"
   ]
  },
  {
   "cell_type": "code",
   "execution_count": 1,
   "id": "19caee8c-3519-44bd-afd6-5104e269aaa9",
   "metadata": {},
   "source": [
    "# Ajouter le répertoire du package au sys.path\n",
    "import sys\n",
    "import os\n",
    "\n",
    "# Chemin relatif vers le répertoire src où se trouve le package\n",
    "sys.path.append(os.path.abspath(os.path.join('../..', 'src')))\n",
    "\n",
    "from openmolcas import bench_openmolcas as bo\n",
    "import util"
   ],
   "outputs": []
  },
  {
   "cell_type": "code",
   "execution_count": 2,
   "id": "9a6a6a77-0bda-4398-82a5-157742b247b3",
   "metadata": {},
   "source": [
    "url = 'https://uncloud.univ-nantes.fr/index.php/s/pRfygww92Bygpyi/download/25sept.zip'\n",
    "csv_file = '../../results/outputs/extract.csv'\n",
    "bench_dir = './data/extracted/25sept'\n",
    "#util.download_and_extract_zip(url)"
   ],
   "outputs": []
  },
  {
   "cell_type": "markdown",
   "id": "ca8c155b-d673-4a9e-a059-ea7aeba01e6c",
   "metadata": {},
   "source": [
    "## Extraction des valeurs de walltimes "
   ]
  },
  {
   "cell_type": "code",
   "execution_count": 3,
   "id": "9df2f881-8415-407e-90c9-f07a4384d017",
   "metadata": {},
   "source": [
    "bench_dict=bo.openmolcas_extract_wall_values_from_bench(bench_dir,csv_file)"
   ],
   "outputs": []
  },
  {
   "cell_type": "code",
   "execution_count": 4,
   "id": "2367b0f7-246b-4239-b501-dfe90eb0041d",
   "metadata": {},
   "source": [
    "bo.openmolcas_display_bench_as_bar_chart2(bench_dict)"
   ],
   "outputs": []
  },
  {
   "cell_type": "code",
   "execution_count": null,
   "id": "69db0491-8099-404f-9e8a-7f21e1cb35b8",
   "metadata": {},
   "source": [],
   "outputs": []
  }
 ],
 "metadata": {
  "kernelspec": {
   "display_name": "Python 3 (ipykernel)",
   "language": "python",
   "name": "python3"
  },
  "language_info": {
   "codemirror_mode": {
    "name": "ipython",
    "version": 3
   },
   "file_extension": ".py",
   "mimetype": "text/x-python",
   "name": "python",
   "nbconvert_exporter": "python",
   "pygments_lexer": "ipython3",
   "version": "3.11.2"
  }
 },
 "nbformat": 4,
 "nbformat_minor": 5
}
